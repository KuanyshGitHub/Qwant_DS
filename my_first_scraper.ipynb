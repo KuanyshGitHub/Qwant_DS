{
 "cells": [
  {
   "cell_type": "code",
   "execution_count": 12,
   "metadata": {},
   "outputs": [],
   "source": [
    "import requests\n",
    "import pandas as pd\n",
    "from bs4 import BeautifulSoup"
   ]
  },
  {
   "cell_type": "code",
   "execution_count": 13,
   "metadata": {},
   "outputs": [],
   "source": [
    "def request_github_trending(url):\n",
    "    result = requests.get(url)\n",
    "    return result"
   ]
  },
  {
   "cell_type": "code",
   "execution_count": 14,
   "metadata": {},
   "outputs": [],
   "source": [
    "def extract(page):\n",
    "    html_repos = BeautifulSoup(page.content, 'html.parser') \n",
    "    return html_repos"
   ]
  },
  {
   "cell_type": "code",
   "execution_count": 15,
   "metadata": {},
   "outputs": [],
   "source": [
    "def transform(html_repos):\n",
    "    articles = html_repos.find_all(class_ = 'Box-row')\n",
    "    trending = []\n",
    "    for article in articles:\n",
    "        dev_name, repo_name, nbr_stars = get_data(article)\n",
    "        \n",
    "        trending.append({\n",
    "            'Developer': dev_name,\n",
    "            'Repository Name': repo_name,\n",
    "            'Number of Stars': nbr_stars\n",
    "        })\n",
    "    return trending\n",
    "\n",
    "def get_data(article):\n",
    "    h1_tag = article.find(class_ = 'lh-condensed')\n",
    "    a_tag = h1_tag.find('a')\n",
    "    text = a_tag.get_text()\n",
    "    dev_name = text.split(' ')[-8]\n",
    "    repo_name = text.split(' ')[-1]\n",
    "    div_tag = article.find(class_ = 'f6 text-gray mt-2')\n",
    "    a_tag = div_tag.find('a')\n",
    "    text = a_tag.get_text()\n",
    "    stars = text.split(' ')[-1]\n",
    "    \n",
    "    \n",
    "    return dev_name.replace('\\n', ''), repo_name.replace('\\n', ''), stars.replace('\\n', '')    "
   ]
  },
  {
   "cell_type": "code",
   "execution_count": 30,
   "metadata": {},
   "outputs": [],
   "source": [
    "def format(repositories_data):\n",
    "    return pd.DataFrame(repositories_data)"
   ]
  },
  {
   "cell_type": "code",
   "execution_count": 31,
   "metadata": {},
   "outputs": [],
   "source": [
    "# url = \"https://github.com/trending\"\n",
    "# page = request_github_trending(url)\n",
    "# html_repos = extract(page)\n",
    "# repositories_data = transform(html_repos)\n",
    "# result = format(repositories_data)"
   ]
  },
  {
   "cell_type": "code",
   "execution_count": null,
   "metadata": {},
   "outputs": [],
   "source": []
  }
 ],
 "metadata": {
  "kernelspec": {
   "display_name": "Python 3",
   "language": "python",
   "name": "python3"
  },
  "language_info": {
   "codemirror_mode": {
    "name": "ipython",
    "version": 3
   },
   "file_extension": ".py",
   "mimetype": "text/x-python",
   "name": "python",
   "nbconvert_exporter": "python",
   "pygments_lexer": "ipython3",
   "version": "3.8.5"
  }
 },
 "nbformat": 4,
 "nbformat_minor": 4
}
